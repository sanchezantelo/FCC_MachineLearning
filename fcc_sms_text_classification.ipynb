{
  "cells": [
    {
      "cell_type": "code",
      "execution_count": null,
      "metadata": {
        "id": "8RZOuS9LWQvv"
      },
      "outputs": [],
      "source": [
        "# import libraries\n",
        "try:\n",
        "  # %tensorflow_version only exists in Colab.\n",
        "  !pip install tf-nightly\n",
        "except Exception:\n",
        "  pass\n",
        "import tensorflow as tf\n",
        "import pandas as pd\n",
        "from tensorflow import keras\n",
        "!pip install tensorflow-datasets\n",
        "import tensorflow_datasets as tfds\n",
        "import numpy as np\n",
        "import matplotlib.pyplot as plt\n",
        "\n",
        "print(tf.__version__)"
      ]
    },
    {
      "cell_type": "code",
      "execution_count": null,
      "metadata": {
        "id": "lMHwYXHXCar3"
      },
      "outputs": [],
      "source": [
        "# get data files\n",
        "!wget https://cdn.freecodecamp.org/project-data/sms/train-data.tsv\n",
        "!wget https://cdn.freecodecamp.org/project-data/sms/valid-data.tsv\n",
        "\n",
        "train_file_path = \"train-data.tsv\"\n",
        "test_file_path = \"valid-data.tsv\""
      ]
    },
    {
      "cell_type": "code",
      "execution_count": null,
      "metadata": {
        "id": "g_h508FEClxO"
      },
      "outputs": [],
      "source": [
        "# Create Word Index\n",
        "def create_word_index(var):\n",
        "  word_index = {}\n",
        "  code = 0\n",
        "  for sms in var:\n",
        "    for word in sms.split():\n",
        "      if word not in list(word_index.keys()):\n",
        "        word_index[word] = code\n",
        "        code += 1\n",
        "  return word_index"
      ]
    },
    {
      "cell_type": "code",
      "execution_count": null,
      "metadata": {
        "id": "zOMKywn4zReN"
      },
      "outputs": [],
      "source": [
        "# Code SMS function + Padding\n",
        "def encode_data(var, word_index):\n",
        "  data = []\n",
        "  for text in var:\n",
        "    tokens = tf.keras.preprocessing.text.text_to_word_sequence(text)\n",
        "    tokens = [word_index[word] if word in word_index else 0 for word in tokens]\n",
        "    data.append(tf.keras.preprocessing.sequence.pad_sequences([tokens], MAXLEN)[0])\n",
        "  return np.array(data)\n",
        "\n",
        "# Decode SMS function\n",
        "def decode_data(var, word_index):\n",
        "    data = []\n",
        "    reverse_word_index = {value: key for (key, value) in word_index.items()}\n",
        "    PAD = 0\n",
        "    for ints in var:\n",
        "      text = \"\"\n",
        "      for num in ints:\n",
        "        if num != PAD:\n",
        "          text += reverse_word_index[num] + \" \"\n",
        "      data.append(text[:-1])\n",
        "    return np.array(data)\n",
        "\n",
        "# Encode single SMS\n",
        "def encode_text(text, word_index, maxlen):\n",
        "  tokens = tf.keras.preprocessing.text.text_to_word_sequence(text)\n",
        "  tokens = [word_index[word] if word in word_index else 0 for word in tokens]\n",
        "  return tf.keras.preprocessing.sequence.pad_sequences([tokens], maxlen)[0]\n",
        "\n",
        "# Decode single SMS\n",
        "def decode_integers(integers):\n",
        "    reverse_word_index = {value: key for (key, value) in word_index.items()}\n",
        "    PAD = 0\n",
        "    text = \"\"\n",
        "    for num in integers:\n",
        "      if num != PAD:\n",
        "        text += reverse_word_index[num] + \" \"\n",
        "    return text[:-1]\n",
        "\n",
        "# Read data\n",
        "train = pd.read_table(train_file_path, header=None)\n",
        "test = pd.read_table(test_file_path, header=None)\n",
        "\n",
        "# Parameters\n",
        "lens = []\n",
        "for i in train[1]:\n",
        "  lens.append(len(i))\n",
        "print(\"The median sms length is:\", np.median(lens))\n",
        "MAXLEN = int(np.median(lens))*2\n",
        "\n",
        "BATCH_SIZE = 64\n",
        "\n",
        "# Word Index\n",
        "sms = np.concatenate((np.array(train[1]), np.array(test[1])))\n",
        "word_index = create_word_index(sms)\n",
        "VOCAB_SIZE = len(word_index)\n",
        "print(\"Number of unique words:\", VOCAB_SIZE)\n",
        "\n",
        "# Data and Labels\n",
        "train_data = encode_data(train[1], word_index=word_index)\n",
        "train_labels = np.array(train[0])\n",
        "test_data = encode_data(test[1], word_index=word_index)\n",
        "test_labels = np.array(test[0])\n",
        "\n",
        "# Transform labels to binary numbers\n",
        "train_labels = (train_labels == 'spam').astype(int)\n",
        "test_labels = (test_labels == 'spam').astype(int)\n",
        "\n",
        "# Create model\n",
        "model = tf.keras.Sequential([\n",
        "    tf.keras.layers.Embedding(VOCAB_SIZE, 32),\n",
        "    tf.keras.layers.LSTM(32),\n",
        "    tf.keras.layers.Dense(1, activation=\"sigmoid\")\n",
        "])\n",
        "\n",
        "model.summary()\n",
        "\n",
        "model.compile(loss=\"binary_crossentropy\",optimizer=\"rmsprop\",metrics=['acc'])\n",
        "\n",
        "history = model.fit(train_data, train_labels, epochs=10, validation_split=0.3)\n",
        "\n",
        "# It requieres the train and test datasets to be numpy.ndarray\n",
        "results = model.evaluate(test_data, test_labels)\n",
        "print(results)\n"
      ]
    },
    {
      "cell_type": "code",
      "execution_count": null,
      "metadata": {
        "id": "J9tD9yACG6M9"
      },
      "outputs": [],
      "source": [
        "# function to predict messages based on model\n",
        "# (should return list containing prediction and label, ex. [0.008318834938108921, 'ham'])\n",
        "def predict_message(pred_text, word_index=word_index, maxlen=MAXLEN):\n",
        "  pred_text = encode_text(pred_text, word_index, maxlen)\n",
        "  pred = np.zeros((1,maxlen))\n",
        "  pred[0] = pred_text\n",
        "  prediction = model.predict(pred)\n",
        "  if prediction > 0.5:\n",
        "    prediction = 'spam'\n",
        "  else:\n",
        "    prediction = 'ham'\n",
        "  return (prediction)\n",
        "\n",
        "pred_text = \"how are you doing today?\"\n",
        "\n",
        "prediction = predict_message(pred_text)\n",
        "print(prediction)\n"
      ]
    },
    {
      "cell_type": "code",
      "execution_count": null,
      "metadata": {
        "id": "Dxotov85SjsC"
      },
      "outputs": [],
      "source": [
        "# Run this cell to test your function and model. Do not modify contents.\n",
        "def test_predictions():\n",
        "  test_messages = [\"how are you doing today\",\n",
        "                   \"sale today! to stop texts call 98912460324\",\n",
        "                   \"i dont want to go. can we try it a different day? available sat\",\n",
        "                   \"our new mobile video service is live. just install on your phone to start watching.\",\n",
        "                   \"you have won £1000 cash! call to claim your prize.\",\n",
        "                   \"i'll bring it tomorrow. don't forget the milk.\",\n",
        "                   \"wow, is your arm alright. that happened to me one time too\"\n",
        "                  ]\n",
        "\n",
        "  test_answers = [\"ham\", \"spam\", \"ham\", \"spam\", \"spam\", \"ham\", \"ham\"]\n",
        "  passed = True\n",
        "\n",
        "  for msg, ans in zip(test_messages, test_answers):\n",
        "    prediction = predict_message(msg)\n",
        "    if prediction != ans:\n",
        "      passed = False\n",
        "\n",
        "  if passed:\n",
        "    print(\"You passed the challenge. Great job!\")\n",
        "  else:\n",
        "    print(\"You haven't passed yet. Keep trying.\")\n",
        "\n",
        "test_predictions()\n"
      ]
    }
  ],
  "metadata": {
    "colab": {
      "collapsed_sections": [],
      "name": "fcc_sms_text_classification.ipynb",
      "private_outputs": true,
      "provenance": [],
      "toc_visible": true
    },
    "kernelspec": {
      "display_name": "Python 3",
      "name": "python3"
    },
    "language_info": {}
  },
  "nbformat": 4,
  "nbformat_minor": 0
}