{
  "cells": [
    {
      "cell_type": "code",
      "execution_count": 1,
      "metadata": {
        "id": "Y1onB6kUvo4Z"
      },
      "outputs": [],
      "source": [
        "# import libraries (you may add additional imports but you may not have to)\n",
        "import numpy as np\n",
        "import pandas as pd\n",
        "from scipy.sparse import csr_matrix\n",
        "from sklearn.neighbors import NearestNeighbors\n",
        "import matplotlib.pyplot as plt"
      ]
    },
    {
      "cell_type": "code",
      "execution_count": 2,
      "metadata": {
        "id": "iAQGqqO_vo4d",
        "outputId": "59fe69ae-f928-4ed3-9fc1-3d5ed8b54e2f",
        "colab": {
          "base_uri": "https://localhost:8080/"
        }
      },
      "outputs": [
        {
          "output_type": "stream",
          "name": "stdout",
          "text": [
            "--2022-10-21 16:00:16--  https://cdn.freecodecamp.org/project-data/books/book-crossings.zip\n",
            "Resolving cdn.freecodecamp.org (cdn.freecodecamp.org)... 172.67.70.149, 104.26.2.33, 104.26.3.33, ...\n",
            "Connecting to cdn.freecodecamp.org (cdn.freecodecamp.org)|172.67.70.149|:443... connected.\n",
            "HTTP request sent, awaiting response... 200 OK\n",
            "Length: 26085508 (25M) [application/zip]\n",
            "Saving to: ‘book-crossings.zip’\n",
            "\n",
            "book-crossings.zip  100%[===================>]  24.88M  58.8MB/s    in 0.4s    \n",
            "\n",
            "2022-10-21 16:00:17 (58.8 MB/s) - ‘book-crossings.zip’ saved [26085508/26085508]\n",
            "\n",
            "Archive:  book-crossings.zip\n",
            "  inflating: BX-Book-Ratings.csv     \n",
            "  inflating: BX-Books.csv            \n",
            "  inflating: BX-Users.csv            \n"
          ]
        }
      ],
      "source": [
        "# get data files\n",
        "!wget https://cdn.freecodecamp.org/project-data/books/book-crossings.zip\n",
        "\n",
        "!unzip book-crossings.zip\n",
        "\n",
        "books_filename = 'BX-Books.csv'\n",
        "ratings_filename = 'BX-Book-Ratings.csv'"
      ]
    },
    {
      "cell_type": "code",
      "execution_count": 3,
      "metadata": {
        "id": "NClILWOiEd6Q"
      },
      "outputs": [],
      "source": [
        "# import csv data into dataframes\n",
        "df_books = pd.read_csv(\n",
        "    books_filename,\n",
        "    encoding = \"ISO-8859-1\",\n",
        "    sep=\";\",\n",
        "    header=0,\n",
        "    names=['isbn', 'title', 'author'],\n",
        "    usecols=['isbn', 'title', 'author'],\n",
        "    dtype={'isbn': 'str', 'title': 'str', 'author': 'str'})\n",
        "\n",
        "df_ratings = pd.read_csv(\n",
        "    ratings_filename,\n",
        "    encoding = \"ISO-8859-1\",\n",
        "    sep=\";\",\n",
        "    header=0,\n",
        "    names=['user', 'isbn', 'rating'],\n",
        "    usecols=['user', 'isbn', 'rating'],\n",
        "    dtype={'user': 'int32', 'isbn': 'str', 'rating': 'float32'})"
      ]
    },
    {
      "cell_type": "code",
      "execution_count": 4,
      "metadata": {
        "id": "xAcXjkCFCh0A",
        "outputId": "9036364e-4b5e-4623-fc87-c0509f871e0f",
        "colab": {
          "base_uri": "https://localhost:8080/"
        }
      },
      "outputs": [
        {
          "output_type": "stream",
          "name": "stdout",
          "text": [
            "Index: 0\n",
            "First 10 values in the row: [0. 0. 0. 0. 0. 0. 0. 0. 0.]\n",
            "Book name from index: 1984\n"
          ]
        },
        {
          "output_type": "execute_result",
          "data": {
            "text/plain": [
              "NearestNeighbors(algorithm='brute', metric='cosine')"
            ]
          },
          "metadata": {},
          "execution_count": 4
        }
      ],
      "source": [
        "# add your code here - consider creating a new cell for each section of code\n",
        "# Mutate count columns\n",
        "df_ratings['count_users'] = df_ratings.groupby(['user'], group_keys=False).transform('count')['rating']\n",
        "df_ratings['count_books'] = df_ratings.groupby(['isbn'], group_keys=False).transform('count')['rating']\n",
        "\n",
        "# Clean data\n",
        "df_ratings = df_ratings.loc[(df_ratings.count_users >= 200) & (df_ratings.count_books >= 100)]\n",
        "df_ratings = df_ratings[['user','isbn','rating']]\n",
        "\n",
        "# Merge dataframes\n",
        "df = pd.merge(df_ratings, df_books, on=\"isbn\")\n",
        "\n",
        "# Remove duplicates (Same user several reviews over same book)\n",
        "df = df.drop_duplicates(subset=['user','title'])\n",
        "\n",
        "# Transpose dataframe to have tittle vs users with values in each cell. Introduce 0's for NAs.\n",
        "dfknn = df.pivot(index='title', columns='user', values='rating').fillna(0)\n",
        "\n",
        "dfknn.shape\n",
        "\n",
        "# Get list of titles (Books)\n",
        "titles = list(dfknn.index.values)\n",
        "\n",
        "# Functions to transform title to index and get row values for the title\n",
        "def title_2_index(data, title, titles=titles):\n",
        "  ind = titles.index(title)\n",
        "  return ind, data.values[ind,:]\n",
        "\n",
        "def index_2_title(ind, titles=titles):\n",
        "  return titles[ind]\n",
        "\n",
        "# Examples modify title to index\n",
        "x, y = title_2_index(dfknn, '1984')\n",
        "print('Index:', x)\n",
        "print('First 10 values in the row:', y[1:10])\n",
        "print('Book name from index:', index_2_title(x))\n",
        "\n",
        "# Model (Euclidean distance - p=2)\n",
        "neigh = NearestNeighbors(metric=\"cosine\",algorithm=\"brute\")\n",
        "neigh.fit(dfknn.values)"
      ]
    },
    {
      "cell_type": "code",
      "execution_count": 5,
      "metadata": {
        "id": "f5ZUd-L1SQz7",
        "outputId": "c7b9becf-a35e-46fc-f825-2ae28a47aa20",
        "colab": {
          "base_uri": "https://localhost:8080/"
        }
      },
      "outputs": [
        {
          "output_type": "execute_result",
          "data": {
            "text/plain": [
              "['1984',\n",
              " [[\"The Hitchhiker's Guide to the Galaxy\", 0.77445555],\n",
              "  [\"Slaughterhouse Five or the Children's Crusade: A Duty Dance With Death\",\n",
              "   0.77405274],\n",
              "  ['The Catcher in the Rye', 0.76593226],\n",
              "  ['Animal Farm', 0.7618247],\n",
              "  [\"The Handmaid's Tale\", 0.75083876]]]"
            ]
          },
          "metadata": {},
          "execution_count": 5
        }
      ],
      "source": [
        "# function to return recommended books - this will be tested\n",
        "def get_recommends(book = \"\", titles=titles, neighbors=5):\n",
        "  ind, val = title_2_index(dfknn, book)\n",
        "  pred = neigh.kneighbors(np.reshape(val,[1,-1]),len(titles),return_distance=True)\n",
        "  # I give all the list but extract the last 5 (Highest probability)\n",
        "  prob_val = pred[0][0][1:neighbors+1]\n",
        "  prob_ind = pred[1][0][1:neighbors+1]\n",
        "  pred = []\n",
        "  for num in range(len(prob_val)):\n",
        "    pred.append([index_2_title(prob_ind[num]), prob_val[num]])\n",
        "  # Create output\n",
        "  pred = pred[::-1]\n",
        "  recommended_books = [book, pred]\n",
        "  return recommended_books\n",
        "\n",
        "get_recommends('1984')\n"
      ]
    },
    {
      "cell_type": "code",
      "execution_count": 6,
      "metadata": {
        "id": "jd2SLCh8oxMh",
        "outputId": "0e5e816b-aba4-41b8-9002-995a36ba8589",
        "colab": {
          "base_uri": "https://localhost:8080/"
        }
      },
      "outputs": [
        {
          "output_type": "stream",
          "name": "stdout",
          "text": [
            "[\"Where the Heart Is (Oprah's Book Club (Paperback))\", [[\"I'll Be Seeing You\", 0.8016211], ['The Weight of Water', 0.77085835], ['The Surgeon', 0.7699411], ['I Know This Much Is True', 0.7677075], ['The Lovely Bones: A Novel', 0.7234864]]]\n",
            "You passed the challenge! 🎉🎉🎉🎉🎉\n"
          ]
        }
      ],
      "source": [
        "books = get_recommends(\"Where the Heart Is (Oprah's Book Club (Paperback))\")\n",
        "print(books)\n",
        "\n",
        "def test_book_recommendation():\n",
        "  test_pass = True\n",
        "  recommends = get_recommends(\"Where the Heart Is (Oprah's Book Club (Paperback))\")\n",
        "  if recommends[0] != \"Where the Heart Is (Oprah's Book Club (Paperback))\":\n",
        "    test_pass = False\n",
        "  recommended_books = [\"I'll Be Seeing You\", 'The Weight of Water', 'The Surgeon', 'I Know This Much Is True']\n",
        "  recommended_books_dist = [0.8, 0.77, 0.77, 0.77]\n",
        "  for i in range(2): \n",
        "    if recommends[1][i][0] not in recommended_books:\n",
        "      test_pass = False\n",
        "    if abs(recommends[1][i][1] - recommended_books_dist[i]) >= 0.05:\n",
        "      test_pass = False\n",
        "  if test_pass:\n",
        "    print(\"You passed the challenge! 🎉🎉🎉🎉🎉\")\n",
        "  else:\n",
        "    print(\"You havn't passed yet. Keep trying!\")\n",
        "\n",
        "test_book_recommendation()"
      ]
    }
  ],
  "metadata": {
    "colab": {
      "collapsed_sections": [],
      "name": "fcc_book_recommendation_knn.ipynb",
      "provenance": []
    },
    "kernelspec": {
      "display_name": "Python 3",
      "language": "python",
      "name": "python3"
    },
    "language_info": {
      "codemirror_mode": {
        "name": "ipython",
        "version": 3
      },
      "file_extension": ".py",
      "mimetype": "text/x-python",
      "name": "python",
      "nbconvert_exporter": "python",
      "pygments_lexer": "ipython3",
      "version": "3.6.5"
    }
  },
  "nbformat": 4,
  "nbformat_minor": 0
}